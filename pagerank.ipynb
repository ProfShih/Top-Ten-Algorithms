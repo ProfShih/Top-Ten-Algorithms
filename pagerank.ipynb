{
 "cells": [
  {
   "cell_type": "markdown",
   "metadata": {},
   "source": [
    "### PageRank Algorithm\n"
   ]
  },
  {
   "cell_type": "code",
   "execution_count": 28,
   "metadata": {
    "collapsed": true
   },
   "outputs": [],
   "source": [
    "class Edge(object):\n",
    "    \n",
    "    def __init__(self, u, v):\n",
    "        self.source = u\n",
    "        self.sink = v\n",
    "        \n",
    "    def __repr__(self):\n",
    "        return \"%s --> %s\" % (self.source, self.sink)\n",
    "        \n",
    "class Graph(object):\n",
    "    \n",
    "    def __init__(self):\n",
    "        self.vset = {}\n",
    "        self.inadj = {}\n",
    "        self.outadj = {}\n",
    "        self.indegree = {}\n",
    "        self.outdegree = {}\n",
    "        self.pr = {}\n",
    "        \n",
    "    def __repr__(self):\n",
    "        return \"graph has %s vertices\" % (len(self.inadj))\n",
    "        \n",
    "    def add_vertex(self, u):\n",
    "        self.vset[u] = u        # Set of all vertices, each represents a page\n",
    "        self.inadj[u] = []      # List o incoming links to Vertex u\n",
    "        self.outadj[u] = []     # List of outgoing links from Vertex u\n",
    "        self.indegree[u] = 0    # In-Degree of Vertex u\n",
    "        self.outdegree[u] = 0   # Out-Degree of Vertex u\n",
    "        self.pr[u] = 0.0     # PageRank score of Vertex u\n",
    "        \n",
    "    def add_edge(self, u, v):\n",
    "        # Add an edge u --> v\n",
    "        if (u == v):\n",
    "            raise ValueError(\"u == v\")\n",
    "        edge = Edge(u, v)\n",
    "        self.outadj[u].append(edge)\n",
    "        self.outdegree[u] += 1\n",
    "        self.inadj[v].append(edge)\n",
    "        self.indegree[v] += 1\n",
    "        return edge\n",
    "        \n",
    "    def delete_edge(self, edge):\n",
    "        # Delete an edge from the gragh\n",
    "        self.outadj[edge.source].remove(edge)\n",
    "        self.outdegree[edge.source] -= 1\n",
    "        self.inadj[edge.sink].remove(edge)\n",
    "        self.indegree[edge.sink] -= 1\n",
    "        del(edge)\n",
    "    \n",
    "    def init_pr(self):\n",
    "        # Initialize all pages to have equal PageRank score\n",
    "        for v in self.vset:\n",
    "            self.pr[v] = 1.0 / len(self.vset)\n",
    "            \n",
    "    def pagerank(self, sigma = 0.001,  d = 0.85):\n",
    "        max_delta = 2*sigma\n",
    "        while max_delta > sigma:\n",
    "            print (sorted([(\"%.2f\" % v, k) for k, v in self.pr.items()]))\n",
    "            max_delta = 0.0\n",
    "            for u in self.vset:\n",
    "                backlink_contr = 0.0\n",
    "                for v in [edge.source for edge in self.inadj[u]]:\n",
    "                    backlink_contr += self.pr[v] / self.outdegree[v]\n",
    "                newpr = (1.0 - d) / len(self.vset) + d * backlink_contr\n",
    "                self.pr[u], delta = newpr, abs(newpr - self.pr[u])\n",
    "                if delta > max_delta:\n",
    "                    max_delta = delta\n",
    "        return"
   ]
  },
  {
   "cell_type": "code",
   "execution_count": 29,
   "metadata": {
    "collapsed": false
   },
   "outputs": [
    {
     "name": "stdout",
     "output_type": "stream",
     "text": [
      "Perform PageRank for the 1st time\n",
      "[('0.17', 'o'), ('0.17', 'p'), ('0.17', 'q'), ('0.17', 'r'), ('0.17', 's'), ('0.17', 't')]\n",
      "[('0.05', 'q'), ('0.07', 'o'), ('0.09', 'p'), ('0.10', 's'), ('0.21', 't'), ('0.38', 'r')]\n",
      "[('0.07', 'q'), ('0.10', 'o'), ('0.15', 'p'), ('0.18', 't'), ('0.19', 's'), ('0.30', 'r')]\n",
      "[('0.06', 'q'), ('0.09', 'o'), ('0.13', 'p'), ('0.15', 's'), ('0.20', 't'), ('0.34', 'r')]\n",
      "[('0.07', 'q'), ('0.10', 'o'), ('0.14', 'p'), ('0.17', 's'), ('0.19', 't'), ('0.33', 'r')]\n",
      "[('0.07', 'q'), ('0.09', 'o'), ('0.14', 'p'), ('0.16', 's'), ('0.19', 't'), ('0.33', 'r')]\n",
      "[('0.07', 'q'), ('0.10', 'o'), ('0.14', 'p'), ('0.17', 's'), ('0.19', 't'), ('0.33', 'r')]\n",
      "[('0.07', 'q'), ('0.10', 'o'), ('0.14', 'p'), ('0.17', 's'), ('0.19', 't'), ('0.33', 'r')]\n",
      "\n",
      "Perform PageRank after adding edges\n",
      "[('0.07', 'q'), ('0.10', 'o'), ('0.14', 'p'), ('0.17', 's'), ('0.20', 't'), ('0.33', 'r')]\n",
      "[('0.12', 's'), ('0.14', 'q'), ('0.15', 't'), ('0.18', 'p'), ('0.21', 'r'), ('0.28', 'o')]\n",
      "[('0.09', 's'), ('0.13', 'q'), ('0.15', 't'), ('0.16', 'p'), ('0.25', 'r'), ('0.26', 'o')]\n",
      "[('0.09', 's'), ('0.13', 'q'), ('0.15', 't'), ('0.16', 'p'), ('0.24', 'r'), ('0.25', 'o')]\n",
      "[('0.09', 's'), ('0.13', 'q'), ('0.15', 't'), ('0.16', 'p'), ('0.24', 'r'), ('0.25', 'o')]\n",
      "[('0.09', 's'), ('0.13', 'q'), ('0.15', 't'), ('0.16', 'p'), ('0.23', 'r'), ('0.25', 'o')]\n",
      "[('0.09', 's'), ('0.13', 'q'), ('0.15', 't'), ('0.16', 'p'), ('0.23', 'r'), ('0.25', 'o')]\n",
      "\n",
      "Perform PageRank after deleting edges\n",
      "[('0.09', 's'), ('0.13', 'q'), ('0.15', 't'), ('0.16', 'p'), ('0.23', 'r'), ('0.25', 'o')]\n",
      "[('0.06', 'p'), ('0.09', 's'), ('0.19', 't'), ('0.23', 'q'), ('0.23', 'r'), ('0.24', 'o')]\n",
      "[('0.06', 'p'), ('0.09', 's'), ('0.18', 't'), ('0.22', 'q'), ('0.23', 'o'), ('0.24', 'r')]\n",
      "[('0.06', 'p'), ('0.09', 's'), ('0.18', 't'), ('0.22', 'q'), ('0.23', 'o'), ('0.23', 'r')]\n",
      "[('0.06', 'p'), ('0.09', 's'), ('0.18', 't'), ('0.22', 'q'), ('0.23', 'o'), ('0.23', 'r')]\n"
     ]
    }
   ],
   "source": [
    "# Instantiate a graph, add vetices, initialize PageRank scores\n",
    "g = Graph()\n",
    "[g.add_vertex(v) for v in 'sopqrt']\n",
    "g.init_pr()\n",
    "\n",
    "# Add edges\n",
    "edge_list_0 = [g.add_edge(edge[0], edge[1])\n",
    "               for edge in ['so', 'sp', 'op', 'pr', 'pr', 'oq', 'qr', 'qt', 'rt', 'rs', 'tr']]\n",
    "#Perform PageRank\n",
    "print (\"Perform PageRank for the 1st time\")\n",
    "g.pagerank()\n",
    "\n",
    "print (\"\\nPerform PageRank after adding edges\")\n",
    "\n",
    "# Add some more edges\n",
    "edge_list_1 = [g.add_edge(edge[0], edge[1])\n",
    "               for edge in ['po', 'ro', 'so', 'to']]\n",
    "# Incrementally Update PageRank Score\n",
    "g.pagerank()\n",
    "\n",
    "# Delete some edges from the graph\n",
    "for i in range(0, len(edge_list_1), 2):\n",
    "    g.delete_edge(edge_list_0[i])\n",
    "    \n",
    "print (\"\\nPerform PageRank after deleting edges\")\n",
    "\n",
    "# Incrementally Update PageRank Score\n",
    "g.pagerank()\n",
    "\n"
   ]
  },
  {
   "cell_type": "code",
   "execution_count": 30,
   "metadata": {
    "collapsed": false
   },
   "outputs": [
    {
     "name": "stdout",
     "output_type": "stream",
     "text": [
      "[('0.00', 'a'), ('0.00', 'b'), ('0.00', 'c'), ('0.00', 'd'), ('0.00', 'e')]\n",
      "[('0.03', 'd'), ('0.04', 'b'), ('0.04', 'e'), ('0.05', 'a'), ('0.07', 'c')]\n",
      "[('0.06', 'a'), ('0.07', 'b'), ('0.09', 'd'), ('0.13', 'e'), ('0.14', 'c')]\n",
      "[('0.07', 'a'), ('0.09', 'b'), ('0.15', 'd'), ('0.17', 'c'), ('0.17', 'e')]\n",
      "[('0.07', 'a'), ('0.11', 'b'), ('0.18', 'd'), ('0.20', 'c'), ('0.20', 'e')]\n",
      "[('0.08', 'a'), ('0.12', 'b'), ('0.20', 'd'), ('0.22', 'c'), ('0.22', 'e')]\n",
      "[('0.08', 'a'), ('0.12', 'b'), ('0.22', 'd'), ('0.23', 'c'), ('0.24', 'e')]\n",
      "[('0.08', 'a'), ('0.13', 'b'), ('0.23', 'd'), ('0.24', 'c'), ('0.25', 'e')]\n",
      "[('0.09', 'a'), ('0.13', 'b'), ('0.24', 'd'), ('0.25', 'c'), ('0.26', 'e')]\n",
      "[('0.09', 'a'), ('0.13', 'b'), ('0.24', 'd'), ('0.25', 'c'), ('0.26', 'e')]\n",
      "[('0.09', 'a'), ('0.13', 'b'), ('0.24', 'd'), ('0.25', 'c'), ('0.26', 'e')]\n",
      "[('0.09', 'a'), ('0.13', 'b'), ('0.25', 'c'), ('0.25', 'd'), ('0.26', 'e')]\n",
      "[('0.09', 'a'), ('0.13', 'b'), ('0.25', 'd'), ('0.26', 'c'), ('0.27', 'e')]\n"
     ]
    }
   ],
   "source": [
    "h = Graph()\n",
    "[h.add_vertex(v) for v in 'abcde']\n",
    "h.add_edge('a', 'e')\n",
    "h.add_edge('b', 'e')\n",
    "h.add_edge('b', 'a')\n",
    "h.add_edge('d', 'b')\n",
    "h.add_edge('d', 'e')\n",
    "h.add_edge('c', 'd')\n",
    "h.add_edge('e', 'c')\n",
    "\n",
    "h.pagerank()"
   ]
  },
  {
   "cell_type": "code",
   "execution_count": null,
   "metadata": {
    "collapsed": true
   },
   "outputs": [],
   "source": []
  }
 ],
 "metadata": {
  "kernelspec": {
   "display_name": "Python 3",
   "language": "python",
   "name": "python3"
  },
  "language_info": {
   "codemirror_mode": {
    "name": "ipython",
    "version": 3
   },
   "file_extension": ".py",
   "mimetype": "text/x-python",
   "name": "python",
   "nbconvert_exporter": "python",
   "pygments_lexer": "ipython3",
   "version": "3.5.0"
  }
 },
 "nbformat": 4,
 "nbformat_minor": 0
}
