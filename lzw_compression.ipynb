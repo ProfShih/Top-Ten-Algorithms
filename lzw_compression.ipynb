{
 "cells": [
  {
   "cell_type": "markdown",
   "metadata": {},
   "source": [
    "# LZW Compression"
   ]
  },
  {
   "cell_type": "code",
   "execution_count": 16,
   "metadata": {
    "collapsed": false
   },
   "outputs": [],
   "source": [
    "def lzw_enc(source):\n",
    "    lzw_dict_enc = {chr(i):chr(i) for i in range(256)}\n",
    "    cur_size = len(lzw_dict_enc)\n",
    "    compressed = []\n",
    "    s = source[0]    \n",
    "    for c in source[1:]:\n",
    "        # print (\"Encoding s={} c={}\".format(s, c))\n",
    "        if s+c in lzw_dict_enc:\n",
    "            # print (\"  s+c={} in Dict={}\".format(s+c, lzw_dict_enc[s+c]))\n",
    "            s = s+c\n",
    "        else:\n",
    "            # print (\"  s+c={} not in Dict\".format(s+c))\n",
    "            # print (\"     Output {}\".format(lzw_dict_enc[s]))\n",
    "            compressed.append(lzw_dict_enc[s])\n",
    "            # print (\"     Insert entry {}:{}\".format(s+c, cur_size))\n",
    "            lzw_dict_enc[s+c] = cur_size\n",
    "            cur_size += 1\n",
    "            s = c\n",
    "            # print (\"     New cur_size={}, New s={}\".format(cur_size, s))\n",
    "    # print (\"End of Compression, Output {} (s={})\".format(lzw_dict_enc[s], s))\n",
    "    compressed.append(lzw_dict_enc[s])            \n",
    "    return compressed\n",
    "\n",
    "\n",
    "\n",
    "def lzw_dec(compressed):\n",
    "    lzw_dict_dec = {chr(i):chr(i) for i in range(256)}\n",
    "    cur_size = len(lzw_dict_dec)\n",
    "    uncompressed = []\n",
    "    \n",
    "    s = compressed[0]\n",
    "    uncompressed.append(s) \n",
    "    for k in compressed[1:]:\n",
    "        # print (\"Decoding s={} k={}\".format(s, k))\n",
    "        if k in lzw_dict_dec:\n",
    "            decoded_symbol = lzw_dict_dec[k]\n",
    "            # print (\"  Key in dict ==> {}:{}\".format(k, lzw_dict_dec[k]))\n",
    "        elif k == cur_size:\n",
    "            # print (\"  Key not in Dict; k == cur_size\", k)\n",
    "            decoded_symbol = s + s[0]\n",
    "        else:\n",
    "            raise ValueError('Bad compressed key: %s' % k)\n",
    "            \n",
    "        uncompressed.append(decoded_symbol)    \n",
    "        lzw_dict_dec[cur_size] = s + decoded_symbol[0]\n",
    "        # print (\"  Insert an entry {}:{}, Decoded Symbol is {}\".format(cur_size, lzw_dict_dec[cur_size], decoded_symbol))\n",
    "        cur_size += 1  \n",
    "        s = decoded_symbol            \n",
    "    return uncompressed\n"
   ]
  },
  {
   "cell_type": "code",
   "execution_count": 17,
   "metadata": {
    "collapsed": false
   },
   "outputs": [
    {
     "name": "stdout",
     "output_type": "stream",
     "text": [
      "\n",
      "Text:\n",
      " abcabcabcabcabcabcabcabcabc\n",
      "\n",
      "Text_encoded:\n",
      " ['a', 'b', 'c', 256, 258, 257, 259, 262, 261, 264, 260, 'c']\n",
      "\n",
      "Text_decoded:\n",
      " abcabcabcabcabcabcabcabcabc\n"
     ]
    }
   ],
   "source": [
    "text = 'abcabcabcabcabcabcabcabcabc'\n",
    "text_enc= lzw_enc(text)\n",
    "text_dec = lzw_dec(text_enc)\n",
    "\n",
    "print (\"\\nText:\\n\", text)\n",
    "print (\"\\nText_encoded:\\n\", text_enc)\n",
    "print (\"\\nText_decoded:\\n\", ''.join(text_dec))"
   ]
  },
  {
   "cell_type": "code",
   "execution_count": 21,
   "metadata": {
    "collapsed": false
   },
   "outputs": [
    {
     "name": "stdout",
     "output_type": "stream",
     "text": [
      "\n",
      "Text Length =  613\n",
      "It was the best of times, it was the worst of times, it was the age of wisdom, it was the age of foolishness, it was the epoch of belief, it was the epoch of incredulity, it was the season of Light, it was the season of Darkness, it was the spring of hope, it was the winter of despair, we had everything before us, we had nothing before us, we were all going direct to Heaven, we were all going direct the other way - in short, the period was so far like the present period, that some of its noisiest authorities insisted on its being received, for good or for evil, in the superlative degree of comparison only.\n",
      "\n",
      "Compressed code Length =  335\n",
      "['I', 't', ' ', 'w', 'a', 's', ' ', 't', 'h', 'e', ' ', 'b', 'e', 's', 257, 'o', 'f', 262, 'i', 'm', 268, ',', ' ', 'i', 257, 259, 261, 263, 265, 'w', 'o', 'r', 269, ' ', 271, 273, 275, 's', 277, 279, 258, 260, 262, 264, ' ', 'a', 'g', 265, 290, 'w', 'i', 's', 'd', 'o', 'm', 294, 280, 297, 283, 300, 302, 289, 272, 'f', 'o', 'o', 'l', 306, 'h', 'n', 268, 293, 278, 312, 282, 299, 'e', 'p', 'o', 'c', 'h', 317, 266, 'e', 322, 'e', 'f', 311, 296, 330, 265, 332, 334, 336, 290, 'i', 'n', 'c', 'r', 'e', 'd', 'u', 322, 't', 'y', 343, 281, 298, 265, 's', 'e', 260, 'o', 'n', 337, 'L', 'i', 'g', 'h', 't', 361, 313, 299, 365, 367, 369, 290, 'D', 'a', 'r', 'k', 325, 's', 327, 295, 362, 314, 's', 'p', 'r', 351, 'g', 337, 'h', 'o', 'p', 'e', 376, 345, 258, 351, 't', 'e', 'r', 337, 'd', 268, 'p', 'a', 'i', 'r', 277, 'w', 265, 'h', 'a', 'd', ' ', 'e', 'v', 408, 'y', 263, 396, 338, 319, 354, ' ', 'u', 327, 418, ' ', 420, 422, 'n', 'o', 428, 'n', 397, 267, 431, 265, 434, 417, 284, 408, 265, 'a', 'l', 'l', ' ', 'g', 'o', 429, 'd', 415, 'e', 'c', 257, 't', 'o', ' ', 'H', 366, 425, 'n', 449, 258, 451, 300, 454, 456, 458, 443, ' ', 460, 354, 463, 363, 289, 283, 409, 259, 'y', ' ', '-', 278, 369, 's', 399, 'r', 375, 484, 401, 395, 'o', 422, 362, 's', 466, 'f', 384, ' ', 322, 'k', 265, 314, 394, 268, 'e', 'n', 257, 499, 'i', 501, 277, 263, 'a', 257, 504, 275, 337, 279, 261, 440, 306, 'i', 268, 257, 'a', 'u', 263, 286, 279, 532, 261, 351, 's', 306, 407, 422, 368, 328, 261, 267, 429, 482, 'e', 'i', 425, 'd', 277, 431, 477, 501, 289, 409, 558, 424, 'i', 'l', 294, 369, 392, 'u', 499, 'l', 523, 554, 265, 411, 'g', 354, 303, 272, 'c', 309, 413, 395, 504, 381, 'n', 'l', 'y', '.']\n",
      "\n",
      "Uncompressed Result:\n",
      "['I', 't', ' ', 'w', 'a', 's', ' ', 't', 'h', 'e', ' ', 'b', 'e', 's', 't ', 'o', 'f', ' t', 'i', 'm', 'es', ',', ' ', 'i', 't ', 'wa', 's ', 'th', 'e ', 'w', 'o', 'r', 'st', ' ', 'of', ' ti', 'me', 's', ', ', 'it', ' w', 'as', ' t', 'he', ' ', 'a', 'g', 'e ', 'of ', 'w', 'i', 's', 'd', 'o', 'm', ', i', 't w', 'as ', 'the', ' a', 'ge', ' o', 'f ', 'f', 'o', 'o', 'l', 'is', 'h', 'n', 'es', 's,', ' i', 't wa', 's t', 'he ', 'e', 'p', 'o', 'c', 'h', ' of', ' b', 'e', 'li', 'e', 'f', ', it', ' wa', 's th', 'e ', 'ep', 'oc', 'h ', 'of ', 'i', 'n', 'c', 'r', 'e', 'd', 'u', 'li', 't', 'y', ', it ', 'was', ' th', 'e ', 's', 'e', 'as', 'o', 'n', ' of ', 'L', 'i', 'g', 'h', 't', ', it w', 'as t', 'he ', 'se', 'aso', 'n ', 'of ', 'D', 'a', 'r', 'k', 'ne', 's', 's, ', 'it ', 'was ', 'the ', 's', 'p', 'r', 'in', 'g', ' of ', 'h', 'o', 'p', 'e', ', it wa', 's the', ' w', 'in', 't', 'e', 'r', ' of ', 'd', 'es', 'p', 'a', 'i', 'r', ', ', 'w', 'e ', 'h', 'a', 'd', ' ', 'e', 'v', 'er', 'y', 'th', 'ing', ' be', 'fo', 're', ' ', 'u', 's, ', 'we', ' ', 'ha', 'd ', 'n', 'o', 'thi', 'n', 'g ', 'be', 'for', 'e ', 'us', ', w', 'e w', 'er', 'e ', 'a', 'l', 'l', ' ', 'g', 'o', 'ing ', 'd', 'ir', 'e', 'c', 't ', 't', 'o', ' ', 'H', 'ea', 've', 'n', ', we', ' w', 'ere', ' a', 'll', ' g', 'oi', 'ng', ' ', 'di', 're', 'ct', ' the', ' o', 'the', 'r ', 'wa', 'y', ' ', '-', ' i', 'n ', 's', 'ho', 'r', 't,', ' the ', 'pe', 'ri', 'o', 'd ', 'was ', 's', 'o ', 'f', 'ar', ' ', 'li', 'k', 'e ', 'the ', 'pr', 'es', 'e', 'n', 't ', 'per', 'i', 'od', ', ', 'th', 'a', 't ', 'so', 'me', ' of ', 'it', 's ', 'no', 'is', 'i', 'es', 't ', 'a', 'u', 'th', 'or', 'it', 'ie', 's ', 'in', 's', 'is', 'te', 'd ', 'on', ' it', 's ', 'be', 'ing ', 'rec', 'e', 'i', 've', 'd', ', ', 'for', ' go', 'od', ' o', 'r ', 'for ', 'ev', 'i', 'l', ', i', 'n ', 'the s', 'u', 'per', 'l', 'at', 'iv', 'e ', 'de', 'g', 're', 'e o', 'f ', 'c', 'om', 'pa', 'ri', 'so', 'n o', 'n', 'l', 'y', '.']\n",
      "\n",
      "Decoded Text:\n",
      "It was the best of times, it was the worst of times, it was the age of wisdom, it was the age of foolishness, it was the epoch of belief, it was the epoch of incredulity, it was the season of Light, it was the season of Darkness, it was the spring of hope, it was the winter of despair, we had everything before us, we had nothing before us, we were all going direct to Heaven, we were all going direct the other way - in short, the period was so far like the present period, that some of its noisiest authorities insisted on its being received, for good or for evil, in the superlative degree of comparison only.\n"
     ]
    }
   ],
   "source": [
    "text = 'It was the best of times, it was the worst of times, it was the age of wisdom, it was the age of foolishness, it was the epoch of belief, it was the epoch of incredulity, it was the season of Light, it was the season of Darkness, it was the spring of hope, it was the winter of despair, we had everything before us, we had nothing before us, we were all going direct to Heaven, we were all going direct the other way - in short, the period was so far like the present period, that some of its noisiest authorities insisted on its being received, for good or for evil, in the superlative degree of comparison only.'\n",
    "print (\"\\nText Length = \", len(text))\n",
    "print (text)\n",
    "\n",
    "compressed = lzw_enc(text)\n",
    "print (\"\\nCompressed code Length = \", len(compressed))\n",
    "print (compressed)\n",
    "\n",
    "uncompressed = lzw_dec(compressed)\n",
    "print (\"\\nUncompressed Result:\")\n",
    "print (uncompressed)\n",
    "print (\"\\nDecoded Text:\")\n",
    "print (''.join(uncompressed))\n",
    "   "
   ]
  },
  {
   "cell_type": "code",
   "execution_count": 22,
   "metadata": {
    "collapsed": false
   },
   "outputs": [
    {
     "name": "stdout",
     "output_type": "stream",
     "text": [
      "[(32, ' '), (44, ','), (46, '.'), (68, 'D'), (72, 'H'), (73, 'I'), (76, 'L'), (97, 'a'), (98, 'b'), (99, 'c'), (100, 'd'), (101, 'e'), (102, 'f'), (103, 'g'), (104, 'h'), (105, 'i'), (107, 'k'), (108, 'l'), (109, 'm'), (110, 'n'), (111, 'o'), (112, 'p'), (114, 'r'), (115, 's'), (116, 't'), (117, 'u'), (118, 'v'), (119, 'w'), (121, 'y'), (8211, '–')]\n"
     ]
    }
   ],
   "source": [
    "text = 'It was the best of times, it was the worst of times, it was the age of wisdom, it was the age of foolishness, it was the epoch of belief, it was the epoch of incredulity, it was the season of Light, it was the season of Darkness, it was the spring of hope, it was the winter of despair, we had everything before us, we had nothing before us, we were all going direct to Heaven, we were all going direct the other way – in short, the period was so far like the present period, that some of its noisiest authorities insisted on its being received, for good or for evil, in the superlative degree of comparison only.'\n",
    "\n",
    "L = list(set( (ord(t), t) for t in text))\n",
    "print (sorted(L))"
   ]
  },
  {
   "cell_type": "code",
   "execution_count": null,
   "metadata": {
    "collapsed": true
   },
   "outputs": [],
   "source": []
  }
 ],
 "metadata": {
  "kernelspec": {
   "display_name": "Python 3",
   "language": "python",
   "name": "python3"
  },
  "language_info": {
   "codemirror_mode": {
    "name": "ipython",
    "version": 3
   },
   "file_extension": ".py",
   "mimetype": "text/x-python",
   "name": "python",
   "nbconvert_exporter": "python",
   "pygments_lexer": "ipython3",
   "version": "3.5.0"
  }
 },
 "nbformat": 4,
 "nbformat_minor": 0
}
